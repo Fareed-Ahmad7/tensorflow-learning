{
  "nbformat": 4,
  "nbformat_minor": 0,
  "metadata": {
    "colab": {
      "name": "celsius to fahrenhiet.ipynb",
      "provenance": [],
      "authorship_tag": "ABX9TyNa96CewsBRdBvmtAOmlloV",
      "include_colab_link": true
    },
    "kernelspec": {
      "name": "python3",
      "display_name": "Python 3"
    },
    "language_info": {
      "name": "python"
    }
  },
  "cells": [
    {
      "cell_type": "markdown",
      "metadata": {
        "id": "view-in-github",
        "colab_type": "text"
      },
      "source": [
        "<a href=\"https://colab.research.google.com/github/Fareed-Ahmad7/tensorflow-learning/blob/main/celsius_to_fahrenhiet.ipynb\" target=\"_parent\"><img src=\"https://colab.research.google.com/assets/colab-badge.svg\" alt=\"Open In Colab\"/></a>"
      ]
    },
    {
      "cell_type": "markdown",
      "source": [
        "# Training my first model and predicting values\n",
        "training a model which predicts the fahrenheit temperature if celsius is entered.\n"
      ],
      "metadata": {
        "id": "tIbL-ZNSRubb"
      }
    },
    {
      "cell_type": "code",
      "execution_count": null,
      "metadata": {
        "id": "nhZS3vaLw0ie"
      },
      "outputs": [],
      "source": [
        "import tensorflow as tf\n",
        "import numpy as np"
      ]
    },
    {
      "cell_type": "code",
      "source": [
        "celsius_q = np.array([-40, -10, 0, 8, 15, 22, 38], dtype=float)                    # inputs are callled features.\n",
        "fahrenheit_a = np.array([-40, 14, 32, 46, 59, 72, 100], dtype=float)               # outputs are called labels.\n",
        "for i,c in enumerate(celsius_q):\n",
        "  print(\"{} degrees Celsius = {} degrees Fahrenheit\".format(c, fahrenheit_a[i]))\n"
      ],
      "metadata": {
        "colab": {
          "base_uri": "https://localhost:8080/"
        },
        "id": "d3hdEdVB0zUf",
        "outputId": "b7873635-f470-45c6-e5e5-965db7a3d69c"
      },
      "execution_count": 20,
      "outputs": [
        {
          "output_type": "stream",
          "name": "stdout",
          "text": [
            "-40.0 degrees Celsius = -40.0 degrees Fahrenheit\n",
            "-10.0 degrees Celsius = 14.0 degrees Fahrenheit\n",
            "0.0 degrees Celsius = 32.0 degrees Fahrenheit\n",
            "8.0 degrees Celsius = 46.0 degrees Fahrenheit\n",
            "15.0 degrees Celsius = 59.0 degrees Fahrenheit\n",
            "22.0 degrees Celsius = 72.0 degrees Fahrenheit\n",
            "38.0 degrees Celsius = 100.0 degrees Fahrenheit\n"
          ]
        }
      ]
    },
    {
      "cell_type": "markdown",
      "source": [
        "**Build layer**"
      ],
      "metadata": {
        "id": "PVRo6LJDJUGS"
      }
    },
    {
      "cell_type": "code",
      "source": [
        "l0 = tf.keras.layers.Dense(units=1, input_shape=[1])"
      ],
      "metadata": {
        "id": "gaUwwDwACPMz"
      },
      "execution_count": 17,
      "outputs": []
    },
    {
      "cell_type": "markdown",
      "source": [
        "**Assemble layer**"
      ],
      "metadata": {
        "id": "TNAgcR8RJXHu"
      }
    },
    {
      "cell_type": "code",
      "source": [
        "model = tf.keras.Sequential([l0])\n",
        "\n",
        "# model = tf.keras.Sequential([\n",
        "#   tf.keras.layers.Dense(units=1, input_shape=[1])\n",
        "# ])"
      ],
      "metadata": {
        "id": "rv7Qlf4RDhLW"
      },
      "execution_count": 18,
      "outputs": []
    },
    {
      "cell_type": "markdown",
      "source": [
        "**Compiling model with loss and optimizer function**"
      ],
      "metadata": {
        "id": "inoFkgVjJEaq"
      }
    },
    {
      "cell_type": "code",
      "source": [
        "model.compile(loss = 'mean_squared_error', optimizer= tf.keras.optimizers.Adam(0.1))      # learning rate can be within 0.001 (default) to 0.1   "
      ],
      "metadata": {
        "id": "HhDcIYlJDztD"
      },
      "execution_count": 22,
      "outputs": []
    },
    {
      "cell_type": "markdown",
      "source": [
        "**Train the model by calling `fit` method**"
      ],
      "metadata": {
        "id": "niquzeL0J_Bq"
      }
    },
    {
      "cell_type": "code",
      "source": [
        "history = model.fit(celsius_q, fahrenheit_a, epochs=500, verbose=False)         # our model gonna train for total of 3500 times ( 7 celsius inputs * 500). (7 pairs over 500 epochs)\n",
        "print(\"Finished training the model\")"
      ],
      "metadata": {
        "colab": {
          "base_uri": "https://localhost:8080/"
        },
        "id": "p5aMb2i4KIWE",
        "outputId": "da0f93f4-c1aa-4c7b-ed51-4999a3f40b97"
      },
      "execution_count": 23,
      "outputs": [
        {
          "output_type": "stream",
          "name": "stdout",
          "text": [
            "Finished training the model\n"
          ]
        }
      ]
    },
    {
      "cell_type": "markdown",
      "source": [
        "Display training statistics"
      ],
      "metadata": {
        "id": "4JpDwS96Mh0_"
      }
    },
    {
      "cell_type": "code",
      "source": [
        "import matplotlib.pyplot as plt\n",
        "plt.xlabel('Epoch Number')\n",
        "plt.ylabel('Loss Magnitude')\n",
        "plt.plot(history.history['loss'])"
      ],
      "metadata": {
        "colab": {
          "base_uri": "https://localhost:8080/",
          "height": 296
        },
        "id": "eU54cE9aMpSE",
        "outputId": "e81540bb-cd5a-45a8-c53f-fe9b9e75b8df"
      },
      "execution_count": 24,
      "outputs": [
        {
          "output_type": "execute_result",
          "data": {
            "text/plain": [
              "[<matplotlib.lines.Line2D at 0x7f3a74c84f10>]"
            ]
          },
          "metadata": {},
          "execution_count": 24
        },
        {
          "output_type": "display_data",
          "data": {
            "text/plain": [
              "<Figure size 432x288 with 1 Axes>"
            ],
            "image/png": "[encoded data removed]"
          },
          "metadata": {
            "needs_background": "light"
          }
        }
      ]
    },
    {
      "cell_type": "markdown",
      "source": [
        "**predicting the values**"
      ],
      "metadata": {
        "id": "flvnq9WzNyNC"
      }
    },
    {
      "cell_type": "code",
      "source": [
        "ftemperature = model.predict([100])\n",
        "print(ftemperature)"
      ],
      "metadata": {
        "colab": {
          "base_uri": "https://localhost:8080/"
        },
        "id": "m2Mv5nJlNxks",
        "outputId": "85017120-8210-4d85-d3f8-606ab0f1ee28"
      },
      "execution_count": 27,
      "outputs": [
        {
          "output_type": "stream",
          "name": "stdout",
          "text": [
            "[[211.33812]]\n"
          ]
        }
      ]
    },
    {
      "cell_type": "markdown",
      "source": [
        "The correct answer is 100*1.8+32 = 212. Our model is doing a pretty good job"
      ],
      "metadata": {
        "id": "X8TI5bqiOdKG"
      }
    },
    {
      "cell_type": "markdown",
      "source": [
        "**Looking at layer weights**"
      ],
      "metadata": {
        "id": "MrvBtaxkPCtw"
      }
    },
    {
      "cell_type": "code",
      "source": [
        "print(\"These are the internal variables: \", l0.get_weights() )"
      ],
      "metadata": {
        "colab": {
          "base_uri": "https://localhost:8080/"
        },
        "id": "fBytPKZTOjld",
        "outputId": "8ce39b9e-f679-413e-edce-0e66a41949fe"
      },
      "execution_count": 29,
      "outputs": [
        {
          "output_type": "stream",
          "name": "stdout",
          "text": [
            "These are the internal variables:  [array([[1.820421]], dtype=float32), array([29.296019], dtype=float32)]\n"
          ]
        }
      ]
    },
    {
      "cell_type": "markdown",
      "source": [
        "\n",
        "\n",
        "```\n",
        "notice here the two variables are ~1.8 and ~32 \n",
        "```\n",
        "f = 1.8 * c + 32\n"
      ],
      "metadata": {
        "id": "i2nxc9VLSJ6H"
      }
    },
    {
      "cell_type": "markdown",
      "source": [
        "# Recap\n",
        "```\n",
        "l0 = tf.keras.layers.Dense(units=1, input_shape=[1]) \n",
        "model = tf.keras.Sequential([l0])\n",
        "model.compile(loss='mean_squared_error', optimizer=tf.keras.optimizers.Adam(0.1))\n",
        "history = model.fit(celsius_q, fahrenheit_a, epochs=500, verbose=False)\n",
        "model.predict([100.0])\n",
        "```\n",
        "\n"
      ],
      "metadata": {
        "id": "ep_6800aRe0I"
      }
    }
  ]
}