{
  "nbformat": 4,
  "nbformat_minor": 0,
  "metadata": {
    "colab": {
      "name": "Tensorflow Intro.ipynb",
      "provenance": [],
      "authorship_tag": "ABX9TyO0Sm0tJMZKVn2pknOah8rJ",
      "include_colab_link": true
    },
    "kernelspec": {
      "name": "python3",
      "display_name": "Python 3"
    },
    "language_info": {
      "name": "python"
    }
  },
  "cells": [
    {
      "cell_type": "markdown",
      "metadata": {
        "id": "view-in-github",
        "colab_type": "text"
      },
      "source": [
        "<a href=\"https://colab.research.google.com/github/Fareed-Ahmad7/tensorflow-learning/blob/main/Tensorflow_Intro.ipynb\" target=\"_parent\"><img src=\"https://colab.research.google.com/assets/colab-badge.svg\" alt=\"Open In Colab\"/></a>"
      ]
    },
    {
      "cell_type": "code",
      "source": [
        "%tensorflow_version 2.x"
      ],
      "metadata": {
        "id": "QeRmYrolejuX"
      },
      "execution_count": null,
      "outputs": []
    },
    {
      "cell_type": "code",
      "source": [
        "import tensorflow as tf\n",
        "print(tf.version)"
      ],
      "metadata": {
        "colab": {
          "base_uri": "https://localhost:8080/"
        },
        "cellView": "code",
        "id": "QQIObDWVgvn9",
        "outputId": "fa6d8687-b76d-4d28-e695-daa29cb76b80"
      },
      "execution_count": null,
      "outputs": [
        {
          "output_type": "stream",
          "name": "stdout",
          "text": [
            "<module 'tensorflow_core._api.v2.version' from '/usr/local/lib/python3.7/dist-packages/tensorflow_core/_api/v2/version/__init__.py'>\n"
          ]
        }
      ]
    },
    {
      "cell_type": "code",
      "source": [
        "# zero dimensional tensors / zero rank tensors\n",
        "tensor1 = tf.Variable(\"farid\", tf.string) # string tensor\n",
        "tensor2 = tf.Variable(546, tf.int32) # int32 tensor\n",
        "tensor3 = tf.Variable(5.346, tf.float32) # float32 tensor\n",
        "\n",
        "tensor4 = tf.Variable([\"farid\", \"ahmed\"], tf.string)\n",
        "tensor5 = tf.Variable([[\"farid\", \"shaik\"],[\"ahmed\", \"Ahmed\"]], tf.string)"
      ],
      "metadata": {
        "id": "ASTQvD2rk9wY"
      },
      "execution_count": null,
      "outputs": []
    },
    {
      "cell_type": "code",
      "source": [
        "print(tensor1)\n",
        "print(tensor2)\n",
        "print(tensor3)\n",
        "tf.rank(tensor1)\n",
        "tf.rank(tensor4)\n",
        "tf.rank(tensor5)\n",
        "\n",
        "tensor4.shape # shape is no.of elements that exist in each dimension \n",
        "tensor5.shape"
      ],
      "metadata": {
        "colab": {
          "base_uri": "https://localhost:8080/"
        },
        "id": "qfJMMCb9lfU3",
        "outputId": "aa07f9c4-36ee-489f-cba8-7cb3c0593a92"
      },
      "execution_count": null,
      "outputs": [
        {
          "output_type": "stream",
          "name": "stdout",
          "text": [
            "<tf.Variable 'Variable:0' shape=() dtype=string, numpy=b'farid'>\n",
            "<tf.Variable 'Variable:0' shape=() dtype=int32, numpy=546>\n",
            "<tf.Variable 'Variable:0' shape=() dtype=float32, numpy=5.346>\n"
          ]
        },
        {
          "output_type": "execute_result",
          "data": {
            "text/plain": [
              "TensorShape([2, 2])"
            ]
          },
          "metadata": {},
          "execution_count": 4
        }
      ]
    },
    {
      "cell_type": "markdown",
      "source": [
        "# **Changing Shape of tensor**\n",
        "\n",
        "---\n",
        "\n",
        "\n"
      ],
      "metadata": {
        "id": "7tRMQtI8uceM"
      }
    },
    {
      "cell_type": "code",
      "source": [
        "tensor6 = tf.Variable([[[\"apple\", \"banana\", \"fruit1\"],\n",
        "                         [\"apple2\", \"banana2\", \"fruit2\"]],\n",
        "                       \n",
        "                       [[\"mango\", \"guava\", \"fruit3\"], \n",
        "                        [\"apple3\", \"banana4\", \"fruit4\"]],\n",
        "                       \n",
        "                        [[\"bluberry\", \"blackberry\", \"fruit5\"], \n",
        "                         [\"apple3\", \"banana3\", \"fruit6\"]]\n",
        "                       ])\n",
        "tensor6.shape\n",
        "print(tensor6)"
      ],
      "metadata": {
        "colab": {
          "base_uri": "https://localhost:8080/"
        },
        "cellView": "code",
        "id": "JAeB2U0ep0hJ",
        "outputId": "a8ba9bc4-8392-4e5b-8902-f4c155778f1a"
      },
      "execution_count": null,
      "outputs": [
        {
          "output_type": "stream",
          "name": "stdout",
          "text": [
            "<tf.Variable 'Variable:0' shape=(3, 2, 3) dtype=string, numpy=\n",
            "array([[[b'apple', b'banana', b'fruit1'],\n",
            "        [b'apple2', b'banana2', b'fruit2']],\n",
            "\n",
            "       [[b'mango', b'guava', b'fruit3'],\n",
            "        [b'apple3', b'banana4', b'fruit4']],\n",
            "\n",
            "       [[b'bluberry', b'blackberry', b'fruit5'],\n",
            "        [b'apple3', b'banana3', b'fruit6']]], dtype=object)>\n"
          ]
        }
      ]
    },
    {
      "cell_type": "code",
      "source": [
        "tensor7 = tf.reshape(tensor6, [3, 3, 2])\n",
        "print(tensor7)"
      ],
      "metadata": {
        "colab": {
          "base_uri": "https://localhost:8080/"
        },
        "id": "jQ9pt3istGGU",
        "outputId": "eb0a3851-b859-444a-eec4-3fdcc7249618"
      },
      "execution_count": null,
      "outputs": [
        {
          "output_type": "stream",
          "name": "stdout",
          "text": [
            "tf.Tensor(\n",
            "[[[b'apple' b'banana']\n",
            "  [b'fruit1' b'apple2']\n",
            "  [b'banana2' b'fruit2']]\n",
            "\n",
            " [[b'mango' b'guava']\n",
            "  [b'fruit3' b'apple3']\n",
            "  [b'banana4' b'fruit4']]\n",
            "\n",
            " [[b'bluberry' b'blackberry']\n",
            "  [b'fruit5' b'apple3']\n",
            "  [b'banana3' b'fruit6']]], shape=(3, 3, 2), dtype=string)\n"
          ]
        }
      ]
    },
    {
      "cell_type": "code",
      "source": [
        "tensor7 = tf.reshape(tensor6, [2, 3, 3])\n",
        "print(tensor7)"
      ],
      "metadata": {
        "colab": {
          "base_uri": "https://localhost:8080/"
        },
        "id": "RUuiLMFvuMGO",
        "outputId": "8723d06a-0ec0-4e91-c83c-33ced0bee8d8"
      },
      "execution_count": null,
      "outputs": [
        {
          "output_type": "stream",
          "name": "stdout",
          "text": [
            "tf.Tensor(\n",
            "[[[b'apple' b'banana' b'fruit1']\n",
            "  [b'apple2' b'banana2' b'fruit2']\n",
            "  [b'mango' b'guava' b'fruit3']]\n",
            "\n",
            " [[b'apple3' b'banana4' b'fruit4']\n",
            "  [b'bluberry' b'blackberry' b'fruit5']\n",
            "  [b'apple3' b'banana3' b'fruit6']]], shape=(2, 3, 3), dtype=string)\n"
          ]
        }
      ]
    },
    {
      "cell_type": "code",
      "source": [
        "tensor7 = tf.reshape(tensor6, [2, 3, -1]) # -1 tells the tensor to calculate the size of that dimension in that place\n",
        "print(tensor7)"
      ],
      "metadata": {
        "colab": {
          "base_uri": "https://localhost:8080/"
        },
        "id": "GIoRyk-3uXYZ",
        "outputId": "29b849e3-58eb-422c-ddad-5f76b18c2e46"
      },
      "execution_count": null,
      "outputs": [
        {
          "output_type": "stream",
          "name": "stdout",
          "text": [
            "tf.Tensor(\n",
            "[[[b'apple' b'banana' b'fruit1']\n",
            "  [b'apple2' b'banana2' b'fruit2']\n",
            "  [b'mango' b'guava' b'fruit3']]\n",
            "\n",
            " [[b'apple3' b'banana4' b'fruit4']\n",
            "  [b'bluberry' b'blackberry' b'fruit5']\n",
            "  [b'apple3' b'banana3' b'fruit6']]], shape=(2, 3, 3), dtype=string)\n"
          ]
        }
      ]
    },
    {
      "cell_type": "markdown",
      "source": [
        "# **Types of Tensors**\n",
        "\n",
        "---\n",
        "\n"
      ],
      "metadata": {
        "id": "iBMVdh0BwEEr"
      }
    },
    {
      "cell_type": "markdown",
      "source": [
        "\n",
        "\n",
        "1.   Variable\n",
        "2.   Constant\n",
        "3.   Placeholder\n",
        "4.   SparseTensor"
      ],
      "metadata": {
        "id": "Dvhthbx5wTf2"
      }
    },
    {
      "cell_type": "code",
      "source": [
        "tensor8 = tf.ones(45 , tf.int32)\n",
        "tensor8 = tf.zeros(45 , tf.int32)\n",
        "print(tensor8)"
      ],
      "metadata": {
        "colab": {
          "base_uri": "https://localhost:8080/"
        },
        "id": "95b1fomGwayY",
        "outputId": "b413c3c4-29dd-4142-a5de-4e655d4b691c"
      },
      "execution_count": null,
      "outputs": [
        {
          "output_type": "stream",
          "name": "stdout",
          "text": [
            "tf.Tensor(\n",
            "[0 0 0 0 0 0 0 0 0 0 0 0 0 0 0 0 0 0 0 0 0 0 0 0 0 0 0 0 0 0 0 0 0 0 0 0 0\n",
            " 0 0 0 0 0 0 0 0], shape=(45,), dtype=int32)\n"
          ]
        }
      ]
    },
    {
      "cell_type": "code",
      "source": [
        "t9 = tf.zeros([5, 5, 5, 5])"
      ],
      "metadata": {
        "id": "PM6707mnyWTr"
      },
      "execution_count": null,
      "outputs": []
    },
    {
      "cell_type": "code",
      "source": [
        "t9 = tf.reshape(t9, [625])\n",
        "print(t9)"
      ],
      "metadata": {
        "colab": {
          "base_uri": "https://localhost:8080/"
        },
        "id": "2huePjdcz1Sv",
        "outputId": "1e724f7b-53d7-4716-e3f7-21855f9818f8"
      },
      "execution_count": null,
      "outputs": [
        {
          "output_type": "stream",
          "name": "stdout",
          "text": [
            "tf.Tensor(\n",
            "[0. 0. 0. 0. 0. 0. 0. 0. 0. 0. 0. 0. 0. 0. 0. 0. 0. 0. 0. 0. 0. 0. 0. 0.\n",
            " 0. 0. 0. 0. 0. 0. 0. 0. 0. 0. 0. 0. 0. 0. 0. 0. 0. 0. 0. 0. 0. 0. 0. 0.\n",
            " 0. 0. 0. 0. 0. 0. 0. 0. 0. 0. 0. 0. 0. 0. 0. 0. 0. 0. 0. 0. 0. 0. 0. 0.\n",
            " 0. 0. 0. 0. 0. 0. 0. 0. 0. 0. 0. 0. 0. 0. 0. 0. 0. 0. 0. 0. 0. 0. 0. 0.\n",
            " 0. 0. 0. 0. 0. 0. 0. 0. 0. 0. 0. 0. 0. 0. 0. 0. 0. 0. 0. 0. 0. 0. 0. 0.\n",
            " 0. 0. 0. 0. 0. 0. 0. 0. 0. 0. 0. 0. 0. 0. 0. 0. 0. 0. 0. 0. 0. 0. 0. 0.\n",
            " 0. 0. 0. 0. 0. 0. 0. 0. 0. 0. 0. 0. 0. 0. 0. 0. 0. 0. 0. 0. 0. 0. 0. 0.\n",
            " 0. 0. 0. 0. 0. 0. 0. 0. 0. 0. 0. 0. 0. 0. 0. 0. 0. 0. 0. 0. 0. 0. 0. 0.\n",
            " 0. 0. 0. 0. 0. 0. 0. 0. 0. 0. 0. 0. 0. 0. 0. 0. 0. 0. 0. 0. 0. 0. 0. 0.\n",
            " 0. 0. 0. 0. 0. 0. 0. 0. 0. 0. 0. 0. 0. 0. 0. 0. 0. 0. 0. 0. 0. 0. 0. 0.\n",
            " 0. 0. 0. 0. 0. 0. 0. 0. 0. 0. 0. 0. 0. 0. 0. 0. 0. 0. 0. 0. 0. 0. 0. 0.\n",
            " 0. 0. 0. 0. 0. 0. 0. 0. 0. 0. 0. 0. 0. 0. 0. 0. 0. 0. 0. 0. 0. 0. 0. 0.\n",
            " 0. 0. 0. 0. 0. 0. 0. 0. 0. 0. 0. 0. 0. 0. 0. 0. 0. 0. 0. 0. 0. 0. 0. 0.\n",
            " 0. 0. 0. 0. 0. 0. 0. 0. 0. 0. 0. 0. 0. 0. 0. 0. 0. 0. 0. 0. 0. 0. 0. 0.\n",
            " 0. 0. 0. 0. 0. 0. 0. 0. 0. 0. 0. 0. 0. 0. 0. 0. 0. 0. 0. 0. 0. 0. 0. 0.\n",
            " 0. 0. 0. 0. 0. 0. 0. 0. 0. 0. 0. 0. 0. 0. 0. 0. 0. 0. 0. 0. 0. 0. 0. 0.\n",
            " 0. 0. 0. 0. 0. 0. 0. 0. 0. 0. 0. 0. 0. 0. 0. 0. 0. 0. 0. 0. 0. 0. 0. 0.\n",
            " 0. 0. 0. 0. 0. 0. 0. 0. 0. 0. 0. 0. 0. 0. 0. 0. 0. 0. 0. 0. 0. 0. 0. 0.\n",
            " 0. 0. 0. 0. 0. 0. 0. 0. 0. 0. 0. 0. 0. 0. 0. 0. 0. 0. 0. 0. 0. 0. 0. 0.\n",
            " 0. 0. 0. 0. 0. 0. 0. 0. 0. 0. 0. 0. 0. 0. 0. 0. 0. 0. 0. 0. 0. 0. 0. 0.\n",
            " 0. 0. 0. 0. 0. 0. 0. 0. 0. 0. 0. 0. 0. 0. 0. 0. 0. 0. 0. 0. 0. 0. 0. 0.\n",
            " 0. 0. 0. 0. 0. 0. 0. 0. 0. 0. 0. 0. 0. 0. 0. 0. 0. 0. 0. 0. 0. 0. 0. 0.\n",
            " 0. 0. 0. 0. 0. 0. 0. 0. 0. 0. 0. 0. 0. 0. 0. 0. 0. 0. 0. 0. 0. 0. 0. 0.\n",
            " 0. 0. 0. 0. 0. 0. 0. 0. 0. 0. 0. 0. 0. 0. 0. 0. 0. 0. 0. 0. 0. 0. 0. 0.\n",
            " 0. 0. 0. 0. 0. 0. 0. 0. 0. 0. 0. 0. 0. 0. 0. 0. 0. 0. 0. 0. 0. 0. 0. 0.\n",
            " 0. 0. 0. 0. 0. 0. 0. 0. 0. 0. 0. 0. 0. 0. 0. 0. 0. 0. 0. 0. 0. 0. 0. 0.\n",
            " 0.], shape=(625,), dtype=float32)\n"
          ]
        }
      ]
    }
  ]
}